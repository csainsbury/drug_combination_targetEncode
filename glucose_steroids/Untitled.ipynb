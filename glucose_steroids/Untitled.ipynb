{
 "cells": [
  {
   "cell_type": "code",
   "execution_count": 6,
   "id": "15b1285f",
   "metadata": {},
   "outputs": [
    {
     "name": "stdout",
     "output_type": "stream",
     "text": [
      "Collecting PyPDF2\n",
      "  Downloading PyPDF2-2.11.1-py3-none-any.whl (220 kB)\n",
      "\u001b[2K     \u001b[38;2;114;156;31m━━━━━━━━━━━━━━━━━━━━━━━━━━━━━━━━━━━━━━━\u001b[0m \u001b[32m220.4/220.4 kB\u001b[0m \u001b[31m2.4 MB/s\u001b[0m eta \u001b[36m0:00:00\u001b[0m[31m1.9 MB/s\u001b[0m eta \u001b[36m0:00:01\u001b[0m\n",
      "\u001b[?25hInstalling collected packages: PyPDF2\n",
      "Successfully installed PyPDF2-2.11.1\n"
     ]
    }
   ],
   "source": [
    "!pip install PyPDF2"
   ]
  },
  {
   "cell_type": "code",
   "execution_count": 7,
   "id": "e08cd6b1",
   "metadata": {},
   "outputs": [],
   "source": [
    "from PyPDF2 import PdfReader\n",
    "import pandas as pd\n",
    "import os"
   ]
  },
  {
   "cell_type": "code",
   "execution_count": 16,
   "id": "ba7e4324",
   "metadata": {},
   "outputs": [],
   "source": [
    "reader = PdfReader(\"../../data/glucose_steroid/Report concurrent Steroid and Diabetes drugs CMcK all data.pdf\")\n",
    "number_of_pages = len(reader.pages)"
   ]
  },
  {
   "cell_type": "code",
   "execution_count": 17,
   "id": "cb23f8be",
   "metadata": {},
   "outputs": [],
   "source": [
    "full_text = []\n",
    "for i in range(number_of_pages):\n",
    "    page = reader.pages[i]\n",
    "    text = page.extract_text()\n",
    "    full_text.append(text)"
   ]
  },
  {
   "cell_type": "code",
   "execution_count": null,
   "id": "b17ca293",
   "metadata": {},
   "outputs": [],
   "source": [
    "full_text = ''.join(full_text)\n",
    "\n",
    "full_text = full_text.replace('The information contained in this document is privileged and confidential.  This document must not be copied or distributed without prior authorisation.','')\n",
    "full_text = full_text.replace('Any unauthorised disclosure of the information contained in this document is  prohibited and may be unlawful. The information contained within this document is only valid at the time of it’s creation. ','')\n",
    "full_text = full_text.replace('The Pharmacy Dept cannot be held responsible for changes subsequent to this document’s creation.','')\n",
    "full_text = full_text.replace('Please Ensure this Document is Destroyed After Use','')\n",
    "full_text = full_text.replace('Report created by the HEPMA Team, Pharmacy Dept. NHS Greater Glasgow & Clyde','')\n",
    "full_text = full_text.replace('Inpatients prescribed Steroids and Diabetic','')\n",
    "full_text = full_text.replace('drugs between 1/5/2021 to 1/5/2022','')\n",
    "full_text = full_text.replace('02/11/2022 13:08:18','')\n",
    "for x in range(number_of_pages+1):\n",
    "    full_text = full_text.replace(f'Page {x} of 180 ','')\n",
    "full_text = full_text.replace('\\n',',')\n",
    "full_text = full_text.replace(',,,','')\n",
    "full_text = full_text.replace('Start Date Discontinue date','\\n')\n",
    "full_text = os.linesep.join([s for s in full_text.splitlines() if s])\n",
    "\n",
    "\n",
    "\n",
    "diabetes_drugs = open(\"Data/dm_drugs.csv\", \"w\")\n",
    "n = diabetes_drugs.write(full_text)\n",
    "diabetes_drugs.close()\n",
    "\n",
    "drug_data = pd.read_csv('Data/dm_drugs.csv',names=['drop', 'CHI Name', 'Drug 1', 'Drug 2', 'Drug 3', 'Drug 4', 'Drug 5', 'Drug 6', 'Drug 7', 'Drug 8', 'Drug 9', 'Drug 10', 'Drug 11', \n",
    "'Drug 12', 'Drug 13', 'Drug 14', 'Drug 15', 'Drug 16', 'Drug 17', 'Drug 18', 'Drug 19', 'Drug 20', 'Drug 21', 'Drug 22', 'Drug 23', 'Drug 24', 'Drug 25', 'Drug 26', 'Drug 27', 'Drug 28', \n",
    "'Drug 29', 'Drug 30', 'Drug 31', 'Drug 32', 'Drug 33', 'Drug 34', 'Drug 35', 'Drug 36', 'Drug 37', 'Drug 38', 'Drug 39', 'Drug 40', 'Drug 41', 'Drug 42', 'Drug 43', 'Drug 44', 'Drug 45', \n",
    "'Drug 46', 'Drug 47', 'Drug 48', 'Drug 49', 'Drug 50', 'Drug 51', 'Drug 52', 'Drug 53', 'Drug 54', 'Drug 55', 'Drug 56'])\n",
    "\n",
    "drug_data = drug_data.drop(['drop'], axis=1)\n",
    "drug_data[['CHI','Name']] = drug_data['CHI Name'].str.split(' ', 1, expand=True)\n",
    "drug_data = drug_data[['CHI Name', 'CHI', 'Name', 'Drug 1', 'Drug 2', 'Drug 3', 'Drug 4', 'Drug 5', 'Drug 6', 'Drug 7', 'Drug 8', 'Drug 9', 'Drug 10', 'Drug 11', \n",
    "'Drug 12', 'Drug 13', 'Drug 14', 'Drug 15', 'Drug 16', 'Drug 17', 'Drug 18', 'Drug 19', 'Drug 20', 'Drug 21', 'Drug 22', 'Drug 23', 'Drug 24', 'Drug 25', 'Drug 26', 'Drug 27', 'Drug 28', \n",
    "'Drug 29', 'Drug 30', 'Drug 31', 'Drug 32', 'Drug 33', 'Drug 34', 'Drug 35', 'Drug 36', 'Drug 37', 'Drug 38', 'Drug 39', 'Drug 40', 'Drug 41', 'Drug 42', 'Drug 43', 'Drug 44', 'Drug 45', \n",
    "'Drug 46', 'Drug 47', 'Drug 48', 'Drug 49', 'Drug 50', 'Drug 51', 'Drug 52', 'Drug 53', 'Drug 54', 'Drug 55', 'Drug 56']]\n",
    "drug_data = drug_data.drop(['CHI Name'],axis=1)"
   ]
  },
  {
   "cell_type": "code",
   "execution_count": null,
   "id": "63853db3",
   "metadata": {},
   "outputs": [],
   "source": [
    "drug_data.to_csv('Data/dm_drugs2.csv')"
   ]
  }
 ],
 "metadata": {
  "kernelspec": {
   "display_name": "Python 3 (ipykernel)",
   "language": "python",
   "name": "python3"
  },
  "language_info": {
   "codemirror_mode": {
    "name": "ipython",
    "version": 3
   },
   "file_extension": ".py",
   "mimetype": "text/x-python",
   "name": "python",
   "nbconvert_exporter": "python",
   "pygments_lexer": "ipython3",
   "version": "3.10.6"
  }
 },
 "nbformat": 4,
 "nbformat_minor": 5
}
