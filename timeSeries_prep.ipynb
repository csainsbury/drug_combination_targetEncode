{
 "cells": [
  {
   "cell_type": "code",
   "execution_count": 1,
   "id": "052dc7c5",
   "metadata": {},
   "outputs": [],
   "source": [
    "import pandas as pd\n",
    "import numpy as np"
   ]
  },
  {
   "cell_type": "code",
   "execution_count": 42,
   "id": "3c42a1f4",
   "metadata": {},
   "outputs": [],
   "source": [
    "filename = '/Users/csainsbury/Documents/data/limit_Rxn_threshold_1e+05.csv'\n",
    "drugRx = pd.read_csv(filename)"
   ]
  },
  {
   "cell_type": "code",
   "execution_count": 43,
   "id": "598429ae",
   "metadata": {},
   "outputs": [
    {
     "data": {
      "text/plain": [
       "(14520719, 3)"
      ]
     },
     "execution_count": 43,
     "metadata": {},
     "output_type": "execute_result"
    }
   ],
   "source": [
    "drugRx.shape"
   ]
  },
  {
   "cell_type": "code",
   "execution_count": 44,
   "id": "4dc64798",
   "metadata": {},
   "outputs": [],
   "source": [
    "# subsetting approach to give more than 1 ID\n",
    "#Dsub = drugRx.iloc[0:1000000, :]\n",
    "Dsub = drugRx"
   ]
  },
  {
   "cell_type": "code",
   "execution_count": 45,
   "id": "d5bf28a9",
   "metadata": {},
   "outputs": [],
   "source": [
    "# redefine df as dataframe with index datetime\n",
    "df = Dsub.copy()\n",
    "df['PrescriptionDateTime'] = pd.to_datetime(df['PrescriptionDateTime'])\n",
    "df.index = df['PrescriptionDateTime']\n",
    "del df['PrescriptionDateTime']"
   ]
  },
  {
   "cell_type": "code",
   "execution_count": 47,
   "id": "b98f5bb6",
   "metadata": {},
   "outputs": [
    {
     "data": {
      "text/html": [
       "<div>\n",
       "<style scoped>\n",
       "    .dataframe tbody tr th:only-of-type {\n",
       "        vertical-align: middle;\n",
       "    }\n",
       "\n",
       "    .dataframe tbody tr th {\n",
       "        vertical-align: top;\n",
       "    }\n",
       "\n",
       "    .dataframe thead th {\n",
       "        text-align: right;\n",
       "    }\n",
       "</style>\n",
       "<table border=\"1\" class=\"dataframe\">\n",
       "  <thead>\n",
       "    <tr style=\"text-align: right;\">\n",
       "      <th></th>\n",
       "      <th></th>\n",
       "      <th></th>\n",
       "      <th>DrugName</th>\n",
       "    </tr>\n",
       "    <tr>\n",
       "      <th>LinkId</th>\n",
       "      <th>DrugName</th>\n",
       "      <th>PrescriptionDateTime</th>\n",
       "      <th></th>\n",
       "    </tr>\n",
       "  </thead>\n",
       "  <tbody>\n",
       "    <tr>\n",
       "      <th rowspan=\"11\" valign=\"top\">2147483663</th>\n",
       "      <th rowspan=\"5\" valign=\"top\">Amitriptyline Hydrochloride</th>\n",
       "      <th>2010-07-31</th>\n",
       "      <td>Amitriptyline Hydrochloride</td>\n",
       "    </tr>\n",
       "    <tr>\n",
       "      <th>2010-10-31</th>\n",
       "      <td>Amitriptyline Hydrochloride</td>\n",
       "    </tr>\n",
       "    <tr>\n",
       "      <th>2011-01-31</th>\n",
       "      <td>Amitriptyline Hydrochloride</td>\n",
       "    </tr>\n",
       "    <tr>\n",
       "      <th>2011-04-30</th>\n",
       "      <td>Amitriptyline Hydrochloride</td>\n",
       "    </tr>\n",
       "    <tr>\n",
       "      <th>2011-07-31</th>\n",
       "      <td>Amitriptyline Hydrochloride</td>\n",
       "    </tr>\n",
       "    <tr>\n",
       "      <th>...</th>\n",
       "      <th>...</th>\n",
       "      <td>...</td>\n",
       "    </tr>\n",
       "    <tr>\n",
       "      <th rowspan=\"5\" valign=\"top\">Gliclazide</th>\n",
       "      <th>2010-09-30</th>\n",
       "      <td>Gliclazide</td>\n",
       "    </tr>\n",
       "    <tr>\n",
       "      <th>2010-12-31</th>\n",
       "      <td>Gliclazide</td>\n",
       "    </tr>\n",
       "    <tr>\n",
       "      <th>2011-03-31</th>\n",
       "      <td>Gliclazide</td>\n",
       "    </tr>\n",
       "    <tr>\n",
       "      <th>2011-06-30</th>\n",
       "      <td>Gliclazide</td>\n",
       "    </tr>\n",
       "    <tr>\n",
       "      <th>2011-09-30</th>\n",
       "      <td>Gliclazide</td>\n",
       "    </tr>\n",
       "  </tbody>\n",
       "</table>\n",
       "<p>100 rows × 1 columns</p>\n",
       "</div>"
      ],
      "text/plain": [
       "                                                                                DrugName\n",
       "LinkId     DrugName                    PrescriptionDateTime                             \n",
       "2147483663 Amitriptyline Hydrochloride 2010-07-31            Amitriptyline Hydrochloride\n",
       "                                       2010-10-31            Amitriptyline Hydrochloride\n",
       "                                       2011-01-31            Amitriptyline Hydrochloride\n",
       "                                       2011-04-30            Amitriptyline Hydrochloride\n",
       "                                       2011-07-31            Amitriptyline Hydrochloride\n",
       "...                                                                                  ...\n",
       "           Gliclazide                  2010-09-30                             Gliclazide\n",
       "                                       2010-12-31                             Gliclazide\n",
       "                                       2011-03-31                             Gliclazide\n",
       "                                       2011-06-30                             Gliclazide\n",
       "                                       2011-09-30                             Gliclazide\n",
       "\n",
       "[100 rows x 1 columns]"
      ]
     },
     "execution_count": 47,
     "metadata": {},
     "output_type": "execute_result"
    }
   ],
   "source": [
    "df_pad = df.groupby(['LinkId', 'DrugName'])\\\n",
    "            .resample('3M')\\\n",
    "            .ffill()\\\n",
    "            .drop('LinkId', axis=1)\n",
    "df_pad.head(100)"
   ]
  },
  {
   "cell_type": "code",
   "execution_count": 48,
   "id": "eb5b3ad5",
   "metadata": {},
   "outputs": [],
   "source": [
    "x = df_pad['DrugName']"
   ]
  },
  {
   "cell_type": "code",
   "execution_count": 49,
   "id": "5f3e5c7e",
   "metadata": {},
   "outputs": [],
   "source": [
    "x = x.to_frame()"
   ]
  },
  {
   "cell_type": "code",
   "execution_count": 50,
   "id": "005ba645",
   "metadata": {},
   "outputs": [
    {
     "data": {
      "text/plain": [
       "pandas.core.frame.DataFrame"
      ]
     },
     "execution_count": 50,
     "metadata": {},
     "output_type": "execute_result"
    }
   ],
   "source": [
    "type(x)"
   ]
  },
  {
   "cell_type": "code",
   "execution_count": 51,
   "id": "3010d721",
   "metadata": {},
   "outputs": [],
   "source": [
    "filepath = '/Users/csainsbury/Documents/data/x_out_3Mbins.csv'\n",
    "x.to_csv(filepath)  "
   ]
  },
  {
   "cell_type": "code",
   "execution_count": 52,
   "id": "6cd2d1fd",
   "metadata": {},
   "outputs": [
    {
     "data": {
      "text/plain": [
       "LinkId      DrugName                     PrescriptionDateTime\n",
       "2147483663  Amitriptyline Hydrochloride  2010-07-31              Amitriptyline Hydrochloride\n",
       "                                         2010-10-31              Amitriptyline Hydrochloride\n",
       "                                         2011-01-31              Amitriptyline Hydrochloride\n",
       "                                         2011-04-30              Amitriptyline Hydrochloride\n",
       "                                         2011-07-31              Amitriptyline Hydrochloride\n",
       "                                                                            ...             \n",
       "2147783590  Losartan Potassium           2017-03-31                       Losartan Potassium\n",
       "            Metformin Hydrochloride      2016-06-30                  Metformin Hydrochloride\n",
       "                                         2016-09-30                  Metformin Hydrochloride\n",
       "                                         2016-12-31                  Metformin Hydrochloride\n",
       "                                         2017-03-31                  Metformin Hydrochloride\n",
       "Name: DrugName, Length: 9445240, dtype: object"
      ]
     },
     "execution_count": 52,
     "metadata": {},
     "output_type": "execute_result"
    }
   ],
   "source": [
    "x['DrugName']"
   ]
  },
  {
   "cell_type": "code",
   "execution_count": null,
   "id": "cb7d5838",
   "metadata": {},
   "outputs": [],
   "source": []
  }
 ],
 "metadata": {
  "kernelspec": {
   "display_name": "Python 3 (ipykernel)",
   "language": "python",
   "name": "python3"
  },
  "language_info": {
   "codemirror_mode": {
    "name": "ipython",
    "version": 3
   },
   "file_extension": ".py",
   "mimetype": "text/x-python",
   "name": "python",
   "nbconvert_exporter": "python",
   "pygments_lexer": "ipython3",
   "version": "3.10.4"
  }
 },
 "nbformat": 4,
 "nbformat_minor": 5
}
