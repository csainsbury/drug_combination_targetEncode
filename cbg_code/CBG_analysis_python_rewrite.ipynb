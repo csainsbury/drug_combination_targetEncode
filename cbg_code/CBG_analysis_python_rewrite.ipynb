{
 "cells": [
  {
   "cell_type": "markdown",
   "id": "e58759e7",
   "metadata": {},
   "source": [
    "### cbg data analysis - python rewrite"
   ]
  },
  {
   "cell_type": "code",
   "execution_count": 4,
   "id": "b78308fc",
   "metadata": {},
   "outputs": [],
   "source": [
    "import numpy as np\n",
    "import pandas as pd\n",
    "import glob\n",
    "import xgboost as xgb\n",
    "\n",
    "from numpy import asarray\n",
    "from pandas import read_csv\n",
    "from pandas import DataFrame\n",
    "from pandas import concat\n",
    "from sklearn.metrics import mean_absolute_error\n",
    "from xgboost import XGBRegressor\n",
    "from matplotlib import pyplot"
   ]
  },
  {
   "cell_type": "code",
   "execution_count": 3,
   "id": "ec78f6fa",
   "metadata": {},
   "outputs": [],
   "source": [
    "dataset = 'huge'\n",
    "days_n = 21\n",
    "minimum_n_cbgs = days_n + 2\n",
    "\n",
    "hypothreshold = 3"
   ]
  },
  {
   "cell_type": "code",
   "execution_count": 14,
   "id": "7f382ae4",
   "metadata": {},
   "outputs": [],
   "source": [
    "load_path = \"/media/psf/Home/Documents/data/CBGdata\"\n",
    "rowLimit = 100000\n",
    "\n",
    "df = pd.read_csv(f\"{load_path}/{dataset}_unipoc_time_series_cohort_first_{days_n}_days.csv\",\n",
    "                     nrows = rowLimit, header = 0)"
   ]
  },
  {
   "cell_type": "code",
   "execution_count": 16,
   "id": "687a5fda",
   "metadata": {},
   "outputs": [],
   "source": [
    "exclude_vector = ['dialysis', 'renal', 'abbott', 'Ketones', 'X Ray', 'X-ray', 'training', 'staff', 'returned', 'obsolete', 'old', 'Meterx', 'dead', 'BioChemistry', 'weldon', 'radiology', 'outpatient', 'rcas', 'Labour Ward', 'Neonatal Unit Top Floor']"
   ]
  },
  {
   "cell_type": "code",
   "execution_count": 17,
   "id": "1d1c5026",
   "metadata": {},
   "outputs": [
    {
     "data": {
      "text/plain": [
       "['dialysis',\n",
       " 'renal',\n",
       " 'abbott',\n",
       " 'Ketones',\n",
       " 'X Ray',\n",
       " 'X-ray',\n",
       " 'training',\n",
       " 'staff',\n",
       " 'returned',\n",
       " 'obsolete',\n",
       " 'old',\n",
       " 'Meterx',\n",
       " 'dead',\n",
       " 'BioChemistry',\n",
       " 'weldon',\n",
       " 'radiology',\n",
       " 'outpatient',\n",
       " 'rcas',\n",
       " 'Labour Ward',\n",
       " 'Neonatal Unit Top Floor']"
      ]
     },
     "execution_count": 17,
     "metadata": {},
     "output_type": "execute_result"
    }
   ],
   "source": [
    "\n"
   ]
  },
  {
   "cell_type": "code",
   "execution_count": null,
   "id": "546a6c67",
   "metadata": {},
   "outputs": [],
   "source": []
  }
 ],
 "metadata": {
  "kernelspec": {
   "display_name": "Python 3 (ipykernel)",
   "language": "python",
   "name": "python3"
  },
  "language_info": {
   "codemirror_mode": {
    "name": "ipython",
    "version": 3
   },
   "file_extension": ".py",
   "mimetype": "text/x-python",
   "name": "python",
   "nbconvert_exporter": "python",
   "pygments_lexer": "ipython3",
   "version": "3.10.6"
  }
 },
 "nbformat": 4,
 "nbformat_minor": 5
}
