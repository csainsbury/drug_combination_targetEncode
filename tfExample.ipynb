{
 "cells": [
  {
   "cell_type": "code",
   "execution_count": 1,
   "id": "f975fa13",
   "metadata": {},
   "outputs": [
    {
     "name": "stdout",
     "output_type": "stream",
     "text": [
      "TensorFlow version: 2.9.2\n"
     ]
    }
   ],
   "source": [
    "import tensorflow as tf\n",
    "print(\"TensorFlow version:\", tf.__version__)"
   ]
  },
  {
   "cell_type": "code",
   "execution_count": 2,
   "id": "c9896040",
   "metadata": {},
   "outputs": [],
   "source": [
    "mnist = tf.keras.datasets.mnist\n",
    "\n",
    "(x_train, y_train), (x_test, y_test) = mnist.load_data()\n",
    "x_train, x_test = x_train / 255.0, x_test / 255.0"
   ]
  },
  {
   "cell_type": "code",
   "execution_count": 3,
   "id": "6ccf5b5c",
   "metadata": {},
   "outputs": [],
   "source": [
    "model = tf.keras.models.Sequential([\n",
    "  tf.keras.layers.Flatten(input_shape=(28, 28)),\n",
    "  tf.keras.layers.Dense(128, activation='relu'),\n",
    "  tf.keras.layers.Dropout(0.2),\n",
    "  tf.keras.layers.Dense(10)\n",
    "])"
   ]
  },
  {
   "cell_type": "code",
   "execution_count": 5,
   "id": "efa2cef9",
   "metadata": {},
   "outputs": [],
   "source": [
    "predictions = model(x_train[:1]).numpy()"
   ]
  },
  {
   "cell_type": "code",
   "execution_count": 6,
   "id": "a2b28a71",
   "metadata": {},
   "outputs": [],
   "source": [
    "tf.nn.softmax(predictions).numpy()\n",
    "loss_fn = tf.keras.losses.SparseCategoricalCrossentropy(from_logits=True)\n",
    "loss_fn(y_train[:1], predictions).numpy()\n",
    "model.compile(optimizer='adam',\n",
    "              loss=loss_fn,\n",
    "              metrics=['accuracy'])"
   ]
  },
  {
   "cell_type": "code",
   "execution_count": 7,
   "id": "a44c0e29",
   "metadata": {},
   "outputs": [
    {
     "name": "stdout",
     "output_type": "stream",
     "text": [
      "Epoch 1/5\n",
      "   1/1875 [..............................] - ETA: 4:37 - loss: 2.5098 - accuracy: 0.0312"
     ]
    },
    {
     "name": "stderr",
     "output_type": "stream",
     "text": [
      "2022-08-24 11:40:36.857519: W tensorflow/core/platform/profile_utils/cpu_utils.cc:128] Failed to get CPU frequency: 0 Hz\n"
     ]
    },
    {
     "name": "stdout",
     "output_type": "stream",
     "text": [
      "1875/1875 [==============================] - 1s 475us/step - loss: 0.2959 - accuracy: 0.9133\n",
      "Epoch 2/5\n",
      "1875/1875 [==============================] - 1s 468us/step - loss: 0.1392 - accuracy: 0.9579\n",
      "Epoch 3/5\n",
      "1875/1875 [==============================] - 1s 468us/step - loss: 0.1075 - accuracy: 0.9675\n",
      "Epoch 4/5\n",
      "1875/1875 [==============================] - 1s 466us/step - loss: 0.0869 - accuracy: 0.9725\n",
      "Epoch 5/5\n",
      "1875/1875 [==============================] - 1s 467us/step - loss: 0.0739 - accuracy: 0.9772\n",
      "313/313 - 0s - loss: 0.0765 - accuracy: 0.9768 - 141ms/epoch - 451us/step\n"
     ]
    },
    {
     "data": {
      "text/plain": [
       "[0.07649455219507217, 0.9768000245094299]"
      ]
     },
     "execution_count": 7,
     "metadata": {},
     "output_type": "execute_result"
    }
   ],
   "source": [
    "model.fit(x_train, y_train, epochs=5)\n",
    "\n",
    "model.evaluate(x_test,  y_test, verbose=2)"
   ]
  },
  {
   "cell_type": "code",
   "execution_count": 8,
   "id": "e457ef40",
   "metadata": {},
   "outputs": [
    {
     "data": {
      "text/plain": [
       "<tf.Tensor: shape=(5, 10), dtype=float32, numpy=\n",
       "array([[2.60956723e-09, 3.07346704e-09, 7.62123079e-07, 6.27144618e-05,\n",
       "        3.00098336e-12, 5.66225431e-08, 3.86682521e-13, 9.99935627e-01,\n",
       "        1.01373175e-07, 7.28375880e-07],\n",
       "       [3.29651648e-08, 2.36530523e-05, 9.99964833e-01, 8.82541099e-06,\n",
       "        6.21090703e-14, 1.41956960e-07, 2.03518834e-06, 1.73012557e-15,\n",
       "        4.80221331e-07, 2.33414985e-15],\n",
       "       [1.33606204e-06, 9.97484922e-01, 3.56438890e-04, 1.01765081e-05,\n",
       "        1.49644562e-04, 1.40873508e-05, 4.38562165e-05, 9.82568366e-04,\n",
       "        9.55210824e-04, 1.72660998e-06],\n",
       "       [9.99802172e-01, 2.96820291e-10, 3.32005584e-05, 1.67244298e-06,\n",
       "        9.09948596e-08, 6.70039026e-06, 2.03723121e-05, 7.43605369e-06,\n",
       "        5.32973047e-07, 1.27839696e-04],\n",
       "       [2.71293834e-06, 2.39988451e-09, 9.82540541e-07, 2.24145936e-07,\n",
       "        9.95210588e-01, 1.07952758e-06, 3.75437708e-06, 3.71015121e-05,\n",
       "        1.50290998e-05, 4.72850725e-03]], dtype=float32)>"
      ]
     },
     "execution_count": 8,
     "metadata": {},
     "output_type": "execute_result"
    }
   ],
   "source": [
    "probability_model = tf.keras.Sequential([\n",
    "  model,\n",
    "  tf.keras.layers.Softmax()\n",
    "])\n",
    "\n",
    "probability_model(x_test[:5])"
   ]
  },
  {
   "cell_type": "code",
   "execution_count": null,
   "id": "89de50e5",
   "metadata": {},
   "outputs": [],
   "source": []
  }
 ],
 "metadata": {
  "kernelspec": {
   "display_name": "Python 3 (ipykernel)",
   "language": "python",
   "name": "python3"
  },
  "language_info": {
   "codemirror_mode": {
    "name": "ipython",
    "version": 3
   },
   "file_extension": ".py",
   "mimetype": "text/x-python",
   "name": "python",
   "nbconvert_exporter": "python",
   "pygments_lexer": "ipython3",
   "version": "3.10.4"
  }
 },
 "nbformat": 4,
 "nbformat_minor": 5
}
