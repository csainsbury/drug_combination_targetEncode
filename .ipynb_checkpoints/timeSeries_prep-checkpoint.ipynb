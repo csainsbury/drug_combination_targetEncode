{
 "cells": [
  {
   "cell_type": "code",
   "execution_count": 1,
   "id": "052dc7c5",
   "metadata": {},
   "outputs": [],
   "source": [
    "import pandas as pd\n",
    "import numpy as np"
   ]
  },
  {
   "cell_type": "code",
   "execution_count": 2,
   "id": "3c42a1f4",
   "metadata": {},
   "outputs": [],
   "source": [
    "filename = '/Users/csainsbury/Documents/data/limit_Rxn_threshold_1e+05.csv'\n",
    "drugRx = pd.read_csv(filename)"
   ]
  },
  {
   "cell_type": "code",
   "execution_count": 21,
   "id": "4dc64798",
   "metadata": {},
   "outputs": [],
   "source": [
    "# subsetting approach to give more than 1 ID\n",
    "Dsub = drugRx.iloc[0:1000000, :]\n",
    "#Dsub = drugRx"
   ]
  },
  {
   "cell_type": "code",
   "execution_count": 22,
   "id": "d5bf28a9",
   "metadata": {},
   "outputs": [],
   "source": [
    "# redefine df as dataframe with index datetime\n",
    "df = Dsub.copy()\n",
    "df['PrescriptionDateTime'] = pd.to_datetime(df['PrescriptionDateTime'])\n",
    "df.index = df['PrescriptionDateTime']\n",
    "del df['PrescriptionDateTime']"
   ]
  },
  {
   "cell_type": "code",
   "execution_count": 23,
   "id": "b98f5bb6",
   "metadata": {},
   "outputs": [
    {
     "data": {
      "text/html": [
       "<div>\n",
       "<style scoped>\n",
       "    .dataframe tbody tr th:only-of-type {\n",
       "        vertical-align: middle;\n",
       "    }\n",
       "\n",
       "    .dataframe tbody tr th {\n",
       "        vertical-align: top;\n",
       "    }\n",
       "\n",
       "    .dataframe thead th {\n",
       "        text-align: right;\n",
       "    }\n",
       "</style>\n",
       "<table border=\"1\" class=\"dataframe\">\n",
       "  <thead>\n",
       "    <tr style=\"text-align: right;\">\n",
       "      <th></th>\n",
       "      <th></th>\n",
       "      <th></th>\n",
       "      <th>DrugName</th>\n",
       "    </tr>\n",
       "    <tr>\n",
       "      <th>LinkId</th>\n",
       "      <th>DrugName</th>\n",
       "      <th>PrescriptionDateTime</th>\n",
       "      <th></th>\n",
       "    </tr>\n",
       "  </thead>\n",
       "  <tbody>\n",
       "    <tr>\n",
       "      <th rowspan=\"11\" valign=\"top\">2147483663</th>\n",
       "      <th rowspan=\"5\" valign=\"top\">Amitriptyline Hydrochloride</th>\n",
       "      <th>2010-07-31</th>\n",
       "      <td>Amitriptyline Hydrochloride</td>\n",
       "    </tr>\n",
       "    <tr>\n",
       "      <th>2010-08-31</th>\n",
       "      <td>Amitriptyline Hydrochloride</td>\n",
       "    </tr>\n",
       "    <tr>\n",
       "      <th>2010-09-30</th>\n",
       "      <td>Amitriptyline Hydrochloride</td>\n",
       "    </tr>\n",
       "    <tr>\n",
       "      <th>2010-10-31</th>\n",
       "      <td>Amitriptyline Hydrochloride</td>\n",
       "    </tr>\n",
       "    <tr>\n",
       "      <th>2010-11-30</th>\n",
       "      <td>Amitriptyline Hydrochloride</td>\n",
       "    </tr>\n",
       "    <tr>\n",
       "      <th>...</th>\n",
       "      <th>...</th>\n",
       "      <td>...</td>\n",
       "    </tr>\n",
       "    <tr>\n",
       "      <th rowspan=\"5\" valign=\"top\">Amoxicillin</th>\n",
       "      <th>2014-11-30</th>\n",
       "      <td>Amoxicillin</td>\n",
       "    </tr>\n",
       "    <tr>\n",
       "      <th>2014-12-31</th>\n",
       "      <td>Amoxicillin</td>\n",
       "    </tr>\n",
       "    <tr>\n",
       "      <th>2015-01-31</th>\n",
       "      <td>Amoxicillin</td>\n",
       "    </tr>\n",
       "    <tr>\n",
       "      <th>2015-02-28</th>\n",
       "      <td>Amoxicillin</td>\n",
       "    </tr>\n",
       "    <tr>\n",
       "      <th>2015-03-31</th>\n",
       "      <td>Amoxicillin</td>\n",
       "    </tr>\n",
       "  </tbody>\n",
       "</table>\n",
       "<p>100 rows × 1 columns</p>\n",
       "</div>"
      ],
      "text/plain": [
       "                                                                                DrugName\n",
       "LinkId     DrugName                    PrescriptionDateTime                             \n",
       "2147483663 Amitriptyline Hydrochloride 2010-07-31            Amitriptyline Hydrochloride\n",
       "                                       2010-08-31            Amitriptyline Hydrochloride\n",
       "                                       2010-09-30            Amitriptyline Hydrochloride\n",
       "                                       2010-10-31            Amitriptyline Hydrochloride\n",
       "                                       2010-11-30            Amitriptyline Hydrochloride\n",
       "...                                                                                  ...\n",
       "           Amoxicillin                 2014-11-30                            Amoxicillin\n",
       "                                       2014-12-31                            Amoxicillin\n",
       "                                       2015-01-31                            Amoxicillin\n",
       "                                       2015-02-28                            Amoxicillin\n",
       "                                       2015-03-31                            Amoxicillin\n",
       "\n",
       "[100 rows x 1 columns]"
      ]
     },
     "execution_count": 23,
     "metadata": {},
     "output_type": "execute_result"
    }
   ],
   "source": [
    "df_pad = df.groupby(['LinkId', 'DrugName'])\\\n",
    "            .resample('M')\\\n",
    "            .ffill()\\\n",
    "            .drop('LinkId', axis=1)\n",
    "df_pad.head(100)"
   ]
  },
  {
   "cell_type": "code",
   "execution_count": 24,
   "id": "eb5b3ad5",
   "metadata": {},
   "outputs": [],
   "source": [
    "x = df_pad['DrugName']"
   ]
  },
  {
   "cell_type": "code",
   "execution_count": 25,
   "id": "5f3e5c7e",
   "metadata": {},
   "outputs": [],
   "source": [
    "x = x.to_frame()"
   ]
  },
  {
   "cell_type": "code",
   "execution_count": 26,
   "id": "005ba645",
   "metadata": {},
   "outputs": [
    {
     "data": {
      "text/plain": [
       "pandas.core.frame.DataFrame"
      ]
     },
     "execution_count": 26,
     "metadata": {},
     "output_type": "execute_result"
    }
   ],
   "source": [
    "type(x)"
   ]
  },
  {
   "cell_type": "code",
   "execution_count": 27,
   "id": "3010d721",
   "metadata": {},
   "outputs": [],
   "source": [
    "filepath = '/Users/csainsbury/Documents/data/x_out.csv'\n",
    "x.to_csv(filepath)  "
   ]
  }
 ],
 "metadata": {
  "kernelspec": {
   "display_name": "Python 3 (ipykernel)",
   "language": "python",
   "name": "python3"
  },
  "language_info": {
   "codemirror_mode": {
    "name": "ipython",
    "version": 3
   },
   "file_extension": ".py",
   "mimetype": "text/x-python",
   "name": "python",
   "nbconvert_exporter": "python",
   "pygments_lexer": "ipython3",
   "version": "3.10.4"
  }
 },
 "nbformat": 4,
 "nbformat_minor": 5
}
