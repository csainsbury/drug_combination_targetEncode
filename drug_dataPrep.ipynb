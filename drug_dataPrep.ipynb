{
 "cells": [
  {
   "cell_type": "code",
   "execution_count": 1,
   "id": "789f72d2",
   "metadata": {},
   "outputs": [],
   "source": [
    "import numpy as np\n",
    "import pandas as pd"
   ]
  },
  {
   "cell_type": "code",
   "execution_count": 11,
   "id": "88804cea",
   "metadata": {},
   "outputs": [],
   "source": [
    "filename = '/Users/csainsbury/Documents/data/test_drug_out_third100kIDs_allTime.txt'"
   ]
  },
  {
   "cell_type": "markdown",
   "id": "777ddb53",
   "metadata": {},
   "source": [
    "chunksize = 10 ** 9\n",
    "n = 4 # define the number of columns. will mean that entries with a comma in the drug description will end up without a code\n",
    "with pd.read_csv(filename,\n",
    "                 chunksize=chunksize,\n",
    "                 usecols=range(n),\n",
    "                 lineterminator='\\n',\n",
    "                 encoding_errors='ignore') as reader:\n",
    "    for chunk in reader:\n",
    "        print(chunk.shape)\n",
    "        "
   ]
  },
  {
   "cell_type": "code",
   "execution_count": 12,
   "id": "da527468",
   "metadata": {},
   "outputs": [],
   "source": [
    "n = 4 # define the number of columns. will mean that entries with a comma in the drug description will end up without a code\n",
    "readfile = pd.read_csv(filename,\n",
    "                      usecols=range(n),\n",
    "                      lineterminator='\\n',\n",
    "                      encoding_errors='ignore')"
   ]
  },
  {
   "cell_type": "code",
   "execution_count": 13,
   "id": "007bbd6a",
   "metadata": {},
   "outputs": [
    {
     "data": {
      "text/html": [
       "<div>\n",
       "<style scoped>\n",
       "    .dataframe tbody tr th:only-of-type {\n",
       "        vertical-align: middle;\n",
       "    }\n",
       "\n",
       "    .dataframe tbody tr th {\n",
       "        vertical-align: top;\n",
       "    }\n",
       "\n",
       "    .dataframe thead th {\n",
       "        text-align: right;\n",
       "    }\n",
       "</style>\n",
       "<table border=\"1\" class=\"dataframe\">\n",
       "  <thead>\n",
       "    <tr style=\"text-align: right;\">\n",
       "      <th></th>\n",
       "      <th>LinkId</th>\n",
       "      <th>PrescriptionDateTime</th>\n",
       "      <th>DrugCode</th>\n",
       "      <th>DrugName\\r</th>\n",
       "    </tr>\n",
       "  </thead>\n",
       "  <tbody>\n",
       "    <tr>\n",
       "      <th>0</th>\n",
       "      <td>2147697633</td>\n",
       "      <td>2013-02-26</td>\n",
       "      <td>d713</td>\n",
       "      <td>Amitriptyline Hydrochloride\\r</td>\n",
       "    </tr>\n",
       "    <tr>\n",
       "      <th>1</th>\n",
       "      <td>2147697633</td>\n",
       "      <td>2013-02-26</td>\n",
       "      <td>blb1</td>\n",
       "      <td>Amlodipine\\r</td>\n",
       "    </tr>\n",
       "    <tr>\n",
       "      <th>2</th>\n",
       "      <td>2147697633</td>\n",
       "      <td>2013-02-26</td>\n",
       "      <td>bu23</td>\n",
       "      <td>Aspirin\\r</td>\n",
       "    </tr>\n",
       "    <tr>\n",
       "      <th>3</th>\n",
       "      <td>2147697633</td>\n",
       "      <td>2013-02-26</td>\n",
       "      <td>bxi3</td>\n",
       "      <td>Atorvastatin\\r</td>\n",
       "    </tr>\n",
       "    <tr>\n",
       "      <th>4</th>\n",
       "      <td>2147697633</td>\n",
       "      <td>2013-02-26</td>\n",
       "      <td>da95</td>\n",
       "      <td>Citalopram Hydrobromide\\r</td>\n",
       "    </tr>\n",
       "    <tr>\n",
       "      <th>...</th>\n",
       "      <td>...</td>\n",
       "      <td>...</td>\n",
       "      <td>...</td>\n",
       "      <td>...</td>\n",
       "    </tr>\n",
       "    <tr>\n",
       "      <th>65769034</th>\n",
       "      <td>2147700045</td>\n",
       "      <td>2015-09-09</td>\n",
       "      <td>c672</td>\n",
       "      <td>Symbicort\\r</td>\n",
       "    </tr>\n",
       "    <tr>\n",
       "      <th>65769035</th>\n",
       "      <td>2147700045</td>\n",
       "      <td>2015-09-11</td>\n",
       "      <td>ecc2</td>\n",
       "      <td>Trimethoprim\\r</td>\n",
       "    </tr>\n",
       "    <tr>\n",
       "      <th>65769036</th>\n",
       "      <td>2147700045</td>\n",
       "      <td>2015-09-11</td>\n",
       "      <td>dhed</td>\n",
       "      <td>Prochlorperazine Maleate\\r</td>\n",
       "    </tr>\n",
       "    <tr>\n",
       "      <th>65769037</th>\n",
       "      <td>2147700045</td>\n",
       "      <td>2015-09-14</td>\n",
       "      <td>a24t</td>\n",
       "      <td>Peptac\\r</td>\n",
       "    </tr>\n",
       "    <tr>\n",
       "      <th>65769038</th>\n",
       "      <td>2147700045</td>\n",
       "      <td>2015-09-21</td>\n",
       "      <td>dhed</td>\n",
       "      <td>Prochlorperazine Maleate\\r</td>\n",
       "    </tr>\n",
       "  </tbody>\n",
       "</table>\n",
       "<p>65769039 rows × 4 columns</p>\n",
       "</div>"
      ],
      "text/plain": [
       "              LinkId PrescriptionDateTime DrugCode  \\\n",
       "0         2147697633           2013-02-26     d713   \n",
       "1         2147697633           2013-02-26     blb1   \n",
       "2         2147697633           2013-02-26     bu23   \n",
       "3         2147697633           2013-02-26     bxi3   \n",
       "4         2147697633           2013-02-26     da95   \n",
       "...              ...                  ...      ...   \n",
       "65769034  2147700045           2015-09-09     c672   \n",
       "65769035  2147700045           2015-09-11     ecc2   \n",
       "65769036  2147700045           2015-09-11     dhed   \n",
       "65769037  2147700045           2015-09-14     a24t   \n",
       "65769038  2147700045           2015-09-21     dhed   \n",
       "\n",
       "                             DrugName\\r  \n",
       "0         Amitriptyline Hydrochloride\\r  \n",
       "1                          Amlodipine\\r  \n",
       "2                             Aspirin\\r  \n",
       "3                        Atorvastatin\\r  \n",
       "4             Citalopram Hydrobromide\\r  \n",
       "...                                 ...  \n",
       "65769034                    Symbicort\\r  \n",
       "65769035                 Trimethoprim\\r  \n",
       "65769036     Prochlorperazine Maleate\\r  \n",
       "65769037                       Peptac\\r  \n",
       "65769038     Prochlorperazine Maleate\\r  \n",
       "\n",
       "[65769039 rows x 4 columns]"
      ]
     },
     "execution_count": 13,
     "metadata": {},
     "output_type": "execute_result"
    }
   ],
   "source": [
    "readfile"
   ]
  },
  {
   "cell_type": "code",
   "execution_count": 14,
   "id": "39223d36",
   "metadata": {},
   "outputs": [],
   "source": [
    "filepath = '/Users/csainsbury/Documents/data/third_out.csv'\n",
    "readfile.to_csv(filepath)  "
   ]
  },
  {
   "cell_type": "code",
   "execution_count": null,
   "id": "0b4d40e5",
   "metadata": {},
   "outputs": [],
   "source": []
  },
  {
   "cell_type": "code",
   "execution_count": null,
   "id": "86c281f1",
   "metadata": {},
   "outputs": [],
   "source": []
  },
  {
   "cell_type": "code",
   "execution_count": null,
   "id": "03dfd8f1",
   "metadata": {},
   "outputs": [],
   "source": []
  }
 ],
 "metadata": {
  "kernelspec": {
   "display_name": "Python 3 (ipykernel)",
   "language": "python",
   "name": "python3"
  },
  "language_info": {
   "codemirror_mode": {
    "name": "ipython",
    "version": 3
   },
   "file_extension": ".py",
   "mimetype": "text/x-python",
   "name": "python",
   "nbconvert_exporter": "python",
   "pygments_lexer": "ipython3",
   "version": "3.10.4"
  }
 },
 "nbformat": 4,
 "nbformat_minor": 5
}
